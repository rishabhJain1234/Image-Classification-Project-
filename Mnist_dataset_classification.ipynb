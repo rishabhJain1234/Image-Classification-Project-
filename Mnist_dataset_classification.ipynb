{
 "cells": [
  {
   "cell_type": "code",
   "execution_count": null,
   "id": "a78f8b06",
   "metadata": {},
   "outputs": [],
   "source": [
    "###########################################################################################################\n",
    "#Classification of mnist dataset using classical algorithms\n",
    "###########################################################################################################\n",
    "\n",
    "#importing the required libraries\n",
    "from keras.datasets import mnist\n",
    "import matplotlib.pyplot as plt\n",
    "\n",
    "from keras.utils import to_categorical\n",
    "\n",
    "from keras.models import Sequential\n",
    "from keras.layers import Dense, Conv2D, Flatten"
   ]
  },
  {
   "cell_type": "code",
   "execution_count": null,
   "id": "4c52e523",
   "metadata": {},
   "outputs": [],
   "source": [
    "#splitting into train and test sets\n",
    "(x_train, y_train), (x_test, y_test) = mnist.load_data()\n",
    "#one-hot encode target column\n",
    "y_cat_train = to_categorical(y_train,10)\n",
    "y_cat_test = to_categorical(y_test,10)"
   ]
  },
  {
   "cell_type": "code",
   "execution_count": null,
   "id": "ea78d10d",
   "metadata": {},
   "outputs": [],
   "source": [
    "#Reshaping\n",
    "x_train_rf=x_train.reshape(60000,784)\n",
    "x_test_rf=x_test.reshape(10000,784)"
   ]
  },
  {
   "cell_type": "code",
   "execution_count": null,
   "id": "b3113134",
   "metadata": {},
   "outputs": [],
   "source": [
    "#Classification report of random forest classifier\n",
    "from sklearn.ensemble import RandomForestClassifier\n",
    "clf2=RandomForestClassifier()\n",
    "clf2.fit(x_train_rf,y_cat_train)\n"
   ]
  },
  {
   "cell_type": "code",
   "execution_count": null,
   "id": "88ed7b8e",
   "metadata": {},
   "outputs": [],
   "source": [
    "from sklearn.metrics import classification_report\n",
    "print(\"Random Forest:\")\n",
    "y_pred2=clf2.predict(x_test_rf)\n",
    "print(classification_report(y_cat_test,y_pred2))"
   ]
  },
  {
   "cell_type": "code",
   "execution_count": null,
   "id": "b6ea938c",
   "metadata": {},
   "outputs": [],
   "source": [
    "#As you can see above our random forest is giving us a precision between 99% and 100% for all the classes"
   ]
  },
  {
   "cell_type": "code",
   "execution_count": null,
   "id": "870e90d2",
   "metadata": {},
   "outputs": [],
   "source": [
    "#testing a brand new single image\n",
    "from skimage.io import imread\n",
    "import skimage\n",
    "import numpy as np\n",
    "url=input(\"Enter the path of the image you want to try:\")\n",
    "img=imread(url)\n",
    "img_rf=skimage.transform.resize(img,output_shape=(28,28))\n",
    "img_rf=img_rf.reshape(1,784)"
   ]
  },
  {
   "cell_type": "code",
   "execution_count": null,
   "id": "51c14982",
   "metadata": {},
   "outputs": [],
   "source": [
    "arr=clf2.predict(img_rf)\n",
    "arr.shape\n",
    "for i in range (0,10):\n",
    "    if arr[0][i]==1:\n",
    "        print(\"Predicted output:\",i)\n",
    "        break;\n",
    "plt.imshow(img)"
   ]
  },
  {
   "cell_type": "code",
   "execution_count": null,
   "id": "ee44f0d5",
   "metadata": {},
   "outputs": [],
   "source": [
    "#creating CNN model\n",
    "model = Sequential()\n",
    "#adding model layers\n",
    "model.add(Conv2D(64, kernel_size=3, activation='relu', input_shape=(28,28,1)))\n",
    "model.add(Conv2D(32, kernel_size=3, activation='relu'))\n",
    "model.add(Flatten())\n",
    "model.add(Dense(10, activation='softmax'))\n",
    "\n",
    "#compiling model using accuracy to measure model performance\n",
    "model.compile(optimizer='adam', loss='categorical_crossentropy', metrics=['accuracy'])\n",
    "\n",
    "#training the model\n",
    "model.fit(x_train, y_cat_train, validation_data=(x_test, y_cat_test), epochs=3)"
   ]
  },
  {
   "cell_type": "code",
   "execution_count": null,
   "id": "a987fd61",
   "metadata": {},
   "outputs": [],
   "source": [
    "#As you can see our CNN model is giving us a accuracy of 98.32% after 3 epochs"
   ]
  },
  {
   "cell_type": "code",
   "execution_count": null,
   "id": "d6c9c5bc",
   "metadata": {},
   "outputs": [],
   "source": [
    "###########################################################################################################"
   ]
  }
 ],
 "metadata": {
  "kernelspec": {
   "display_name": "Python 3 (ipykernel)",
   "language": "python",
   "name": "python3"
  },
  "language_info": {
   "codemirror_mode": {
    "name": "ipython",
    "version": 3
   },
   "file_extension": ".py",
   "mimetype": "text/x-python",
   "name": "python",
   "nbconvert_exporter": "python",
   "pygments_lexer": "ipython3",
   "version": "3.10.9"
  }
 },
 "nbformat": 4,
 "nbformat_minor": 5
}
