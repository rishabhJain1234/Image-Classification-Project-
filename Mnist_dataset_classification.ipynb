{
 "cells": [
  {
   "cell_type": "code",
   "execution_count": 2,
   "id": "55e353cb",
   "metadata": {},
   "outputs": [],
   "source": [
    "###########################################################################################################\n",
    "#Classification of mnist dataset using classical algorithms\n",
    "###########################################################################################################\n",
    "\n",
    "#importing the required libraries\n",
    "from keras.datasets import mnist\n",
    "import matplotlib.pyplot as plt\n",
    "\n",
    "from keras.utils import to_categorical\n",
    "\n",
    "from keras.models import Sequential\n",
    "from keras.layers import Dense, Conv2D, Flatten"
   ]
  },
  {
   "cell_type": "code",
   "execution_count": 4,
   "id": "9fdd9ba9",
   "metadata": {},
   "outputs": [],
   "source": [
    "#splitting into train and test sets\n",
    "(x_train, y_train), (x_test, y_test) = mnist.load_data()\n",
    "#one-hot encode target column\n",
    "y_cat_train = to_categorical(y_train,10)\n",
    "y_cat_test = to_categorical(y_test,10)"
   ]
  },
  {
   "cell_type": "code",
   "execution_count": 5,
   "id": "ebe8555c",
   "metadata": {},
   "outputs": [],
   "source": [
    "#Reshaping\n",
    "x_train_rf=x_train.reshape(60000,784)\n",
    "x_test_rf=x_test.reshape(10000,784)"
   ]
  },
  {
   "cell_type": "code",
   "execution_count": 8,
   "id": "dd75fbc4",
   "metadata": {},
   "outputs": [
    {
     "data": {
      "text/html": [
       "<style>#sk-container-id-1 {color: black;background-color: white;}#sk-container-id-1 pre{padding: 0;}#sk-container-id-1 div.sk-toggleable {background-color: white;}#sk-container-id-1 label.sk-toggleable__label {cursor: pointer;display: block;width: 100%;margin-bottom: 0;padding: 0.3em;box-sizing: border-box;text-align: center;}#sk-container-id-1 label.sk-toggleable__label-arrow:before {content: \"▸\";float: left;margin-right: 0.25em;color: #696969;}#sk-container-id-1 label.sk-toggleable__label-arrow:hover:before {color: black;}#sk-container-id-1 div.sk-estimator:hover label.sk-toggleable__label-arrow:before {color: black;}#sk-container-id-1 div.sk-toggleable__content {max-height: 0;max-width: 0;overflow: hidden;text-align: left;background-color: #f0f8ff;}#sk-container-id-1 div.sk-toggleable__content pre {margin: 0.2em;color: black;border-radius: 0.25em;background-color: #f0f8ff;}#sk-container-id-1 input.sk-toggleable__control:checked~div.sk-toggleable__content {max-height: 200px;max-width: 100%;overflow: auto;}#sk-container-id-1 input.sk-toggleable__control:checked~label.sk-toggleable__label-arrow:before {content: \"▾\";}#sk-container-id-1 div.sk-estimator input.sk-toggleable__control:checked~label.sk-toggleable__label {background-color: #d4ebff;}#sk-container-id-1 div.sk-label input.sk-toggleable__control:checked~label.sk-toggleable__label {background-color: #d4ebff;}#sk-container-id-1 input.sk-hidden--visually {border: 0;clip: rect(1px 1px 1px 1px);clip: rect(1px, 1px, 1px, 1px);height: 1px;margin: -1px;overflow: hidden;padding: 0;position: absolute;width: 1px;}#sk-container-id-1 div.sk-estimator {font-family: monospace;background-color: #f0f8ff;border: 1px dotted black;border-radius: 0.25em;box-sizing: border-box;margin-bottom: 0.5em;}#sk-container-id-1 div.sk-estimator:hover {background-color: #d4ebff;}#sk-container-id-1 div.sk-parallel-item::after {content: \"\";width: 100%;border-bottom: 1px solid gray;flex-grow: 1;}#sk-container-id-1 div.sk-label:hover label.sk-toggleable__label {background-color: #d4ebff;}#sk-container-id-1 div.sk-serial::before {content: \"\";position: absolute;border-left: 1px solid gray;box-sizing: border-box;top: 0;bottom: 0;left: 50%;z-index: 0;}#sk-container-id-1 div.sk-serial {display: flex;flex-direction: column;align-items: center;background-color: white;padding-right: 0.2em;padding-left: 0.2em;position: relative;}#sk-container-id-1 div.sk-item {position: relative;z-index: 1;}#sk-container-id-1 div.sk-parallel {display: flex;align-items: stretch;justify-content: center;background-color: white;position: relative;}#sk-container-id-1 div.sk-item::before, #sk-container-id-1 div.sk-parallel-item::before {content: \"\";position: absolute;border-left: 1px solid gray;box-sizing: border-box;top: 0;bottom: 0;left: 50%;z-index: -1;}#sk-container-id-1 div.sk-parallel-item {display: flex;flex-direction: column;z-index: 1;position: relative;background-color: white;}#sk-container-id-1 div.sk-parallel-item:first-child::after {align-self: flex-end;width: 50%;}#sk-container-id-1 div.sk-parallel-item:last-child::after {align-self: flex-start;width: 50%;}#sk-container-id-1 div.sk-parallel-item:only-child::after {width: 0;}#sk-container-id-1 div.sk-dashed-wrapped {border: 1px dashed gray;margin: 0 0.4em 0.5em 0.4em;box-sizing: border-box;padding-bottom: 0.4em;background-color: white;}#sk-container-id-1 div.sk-label label {font-family: monospace;font-weight: bold;display: inline-block;line-height: 1.2em;}#sk-container-id-1 div.sk-label-container {text-align: center;}#sk-container-id-1 div.sk-container {/* jupyter's `normalize.less` sets `[hidden] { display: none; }` but bootstrap.min.css set `[hidden] { display: none !important; }` so we also need the `!important` here to be able to override the default hidden behavior on the sphinx rendered scikit-learn.org. See: https://github.com/scikit-learn/scikit-learn/issues/21755 */display: inline-block !important;position: relative;}#sk-container-id-1 div.sk-text-repr-fallback {display: none;}</style><div id=\"sk-container-id-1\" class=\"sk-top-container\"><div class=\"sk-text-repr-fallback\"><pre>RandomForestClassifier()</pre><b>In a Jupyter environment, please rerun this cell to show the HTML representation or trust the notebook. <br />On GitHub, the HTML representation is unable to render, please try loading this page with nbviewer.org.</b></div><div class=\"sk-container\" hidden><div class=\"sk-item\"><div class=\"sk-estimator sk-toggleable\"><input class=\"sk-toggleable__control sk-hidden--visually\" id=\"sk-estimator-id-1\" type=\"checkbox\" checked><label for=\"sk-estimator-id-1\" class=\"sk-toggleable__label sk-toggleable__label-arrow\">RandomForestClassifier</label><div class=\"sk-toggleable__content\"><pre>RandomForestClassifier()</pre></div></div></div></div></div>"
      ],
      "text/plain": [
       "RandomForestClassifier()"
      ]
     },
     "execution_count": 8,
     "metadata": {},
     "output_type": "execute_result"
    }
   ],
   "source": [
    "#Classification report of random forest classifier\n",
    "from sklearn.ensemble import RandomForestClassifier\n",
    "clf2=RandomForestClassifier()\n",
    "clf2.fit(x_train_rf,y_cat_train)\n"
   ]
  },
  {
   "cell_type": "code",
   "execution_count": 51,
   "id": "f2310af9",
   "metadata": {},
   "outputs": [
    {
     "name": "stdout",
     "output_type": "stream",
     "text": [
      "Random Forest:\n",
      "              precision    recall  f1-score   support\n",
      "\n",
      "           0       0.99      0.97      0.98       980\n",
      "           1       1.00      0.98      0.99      1135\n",
      "           2       0.99      0.89      0.94      1032\n",
      "           3       1.00      0.87      0.93      1010\n",
      "           4       0.99      0.89      0.94       982\n",
      "           5       1.00      0.85      0.92       892\n",
      "           6       1.00      0.93      0.96       958\n",
      "           7       0.99      0.91      0.95      1028\n",
      "           8       0.99      0.84      0.91       974\n",
      "           9       0.99      0.88      0.93      1009\n",
      "\n",
      "   micro avg       0.99      0.90      0.95     10000\n",
      "   macro avg       0.99      0.90      0.94     10000\n",
      "weighted avg       0.99      0.90      0.95     10000\n",
      " samples avg       0.90      0.90      0.90     10000\n",
      "\n"
     ]
    },
    {
     "name": "stderr",
     "output_type": "stream",
     "text": [
      "D:\\Downloads\\anaconda3\\lib\\site-packages\\sklearn\\metrics\\_classification.py:1344: UndefinedMetricWarning: Precision and F-score are ill-defined and being set to 0.0 in samples with no predicted labels. Use `zero_division` parameter to control this behavior.\n",
      "  _warn_prf(average, modifier, msg_start, len(result))\n"
     ]
    }
   ],
   "source": [
    "from sklearn.metrics import classification_report\n",
    "print(\"Random Forest:\")\n",
    "y_pred2=clf2.predict(x_test_rf)\n",
    "print(classification_report(y_cat_test,y_pred2))"
   ]
  },
  {
   "cell_type": "code",
   "execution_count": 52,
   "id": "293c86bb",
   "metadata": {},
   "outputs": [],
   "source": [
    "#As you can see above our random forest is giving us a precision between 99% and 100% for all the classes"
   ]
  },
  {
   "cell_type": "code",
   "execution_count": 6,
   "id": "7a23b991",
   "metadata": {},
   "outputs": [
    {
     "name": "stdout",
     "output_type": "stream",
     "text": [
      "Epoch 1/3\n",
      "1875/1875 [==============================] - 58s 31ms/step - loss: 0.2246 - accuracy: 0.9513 - val_loss: 0.0866 - val_accuracy: 0.9762\n",
      "Epoch 2/3\n",
      "1875/1875 [==============================] - 70s 37ms/step - loss: 0.0657 - accuracy: 0.9798 - val_loss: 0.0848 - val_accuracy: 0.9730\n",
      "Epoch 3/3\n",
      "1875/1875 [==============================] - 67s 36ms/step - loss: 0.0438 - accuracy: 0.9864 - val_loss: 0.0772 - val_accuracy: 0.9778\n"
     ]
    },
    {
     "data": {
      "text/plain": [
       "<keras.callbacks.History at 0x296316fbca0>"
      ]
     },
     "execution_count": 6,
     "metadata": {},
     "output_type": "execute_result"
    }
   ],
   "source": [
    "#creating CNN model\n",
    "model = Sequential()\n",
    "#adding model layers\n",
    "model.add(Conv2D(64, kernel_size=3, activation='relu', input_shape=(28,28,1)))\n",
    "model.add(Conv2D(32, kernel_size=3, activation='relu'))\n",
    "model.add(Flatten())\n",
    "model.add(Dense(10, activation='softmax'))\n",
    "\n",
    "#compiling model using accuracy to measure model performance\n",
    "model.compile(optimizer='adam', loss='categorical_crossentropy', metrics=['accuracy'])\n",
    "\n",
    "#training the model\n",
    "model.fit(x_train, y_cat_train, validation_data=(x_test, y_cat_test), epochs=3)"
   ]
  },
  {
   "cell_type": "code",
   "execution_count": null,
   "id": "8316b9b0",
   "metadata": {},
   "outputs": [],
   "source": [
    "#As you can see our CNN model is giving us a accuracy of 98.64% after 3 epochs"
   ]
  },
  {
   "cell_type": "code",
   "execution_count": null,
   "id": "d9b97af1",
   "metadata": {},
   "outputs": [],
   "source": [
    "#testing a brand new single image\n",
    "from skimage.io import imread\n",
    "import skimage\n",
    "import numpy as np\n",
    "url=input(\"Enter the path of the image you want to try:\")\n",
    "img=imread(url)\n",
    "img_rf=skimage.transform.resize(img,output_shape=(28,28))\n",
    "img_rf=img_rf.reshape(1,784)"
   ]
  },
  {
   "cell_type": "code",
   "execution_count": null,
   "id": "30860086",
   "metadata": {},
   "outputs": [],
   "source": [
    "arr=clf2.predict(img_rf)\n",
    "arr.shape\n",
    "for i in range (0,10):\n",
    "    if arr[0][i]==1:\n",
    "        print(\"Predicted output:\",i)\n",
    "        break;\n",
    "plt.imshow(img)"
   ]
  },
  {
   "cell_type": "code",
   "execution_count": null,
   "id": "3ab744ba",
   "metadata": {},
   "outputs": [],
   "source": [
    "###########################################################################################################"
   ]
  }
 ],
 "metadata": {
  "kernelspec": {
   "display_name": "Python 3 (ipykernel)",
   "language": "python",
   "name": "python3"
  },
  "language_info": {
   "codemirror_mode": {
    "name": "ipython",
    "version": 3
   },
   "file_extension": ".py",
   "mimetype": "text/x-python",
   "name": "python",
   "nbconvert_exporter": "python",
   "pygments_lexer": "ipython3",
   "version": "3.10.9"
  }
 },
 "nbformat": 4,
 "nbformat_minor": 5
}
