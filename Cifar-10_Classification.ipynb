{
 "cells": [
  {
   "cell_type": "code",
   "execution_count": 37,
   "id": "f4d73150",
   "metadata": {},
   "outputs": [],
   "source": [
    "###########################################################################################################\n",
    "#Classification of Cifar-10 dataset using classical algorithms\n",
    "###########################################################################################################\n",
    "\n",
    "#importing the required libraries\n",
    "import pandas as pd\n",
    "import numpy as np\n",
    "import matplotlib.pyplot as plt\n",
    "\n",
    "import tensorflow as tf\n",
    "from tensorflow.keras.datasets import cifar10\n",
    "from tensorflow.keras.utils import to_categorical\n",
    "\n",
    "from sklearn.metrics import ConfusionMatrixDisplay\n",
    "from sklearn.metrics import classification_report\n",
    "\n",
    "import pickle"
   ]
  },
  {
   "cell_type": "code",
   "execution_count": 38,
   "id": "1183dea7",
   "metadata": {},
   "outputs": [],
   "source": [
    "#loading the cifar-10 dataset\n",
    "(X_train, y_train), (X_test, y_test) = cifar10.load_data()\n",
    "labels = ['airplane', 'automobile', 'bird', 'cat', 'deer', \n",
    "          'dog', 'frog', 'horse', 'ship', 'truck']\n",
    "#normalising the array values\n",
    "X_train = X_train / 255.0\n",
    "X_test = X_test / 255.0\n",
    "#separating the classes \n",
    "y_cat_train = to_categorical(y_train, 10)\n",
    "y_cat_test = to_categorical(y_test, 10)\n",
    "#reshaping the x arrays from 4D to 2D \n",
    "X_train=X_train.reshape(50000,3072)\n",
    "X_test=X_test.reshape(10000,3072)"
   ]
  },
  {
   "cell_type": "code",
   "execution_count": 39,
   "id": "c5d5a133",
   "metadata": {},
   "outputs": [],
   "source": [
    "#Fitting the data into decision tree classifier\n",
    "#You do not need to run this cell to train the model as I have provided the pickle file which already\n",
    "#contains the trained model\n",
    "from sklearn import tree\n",
    "clf1=tree.DecisionTreeClassifier()\n",
    "clf1.fit(X_train,y_cat_train)\n",
    "pickle.dump(clf1,open('cifar10_model(dc).p','wb'))\n"
   ]
  },
  {
   "cell_type": "code",
   "execution_count": 40,
   "id": "1d8c748c",
   "metadata": {},
   "outputs": [],
   "source": [
    "#loading the pickle data\n",
    "dc_model=pickle.load(open('cifar10_model(dc).p','rb'))"
   ]
  },
  {
   "cell_type": "code",
   "execution_count": 41,
   "id": "31eb23ef",
   "metadata": {},
   "outputs": [
    {
     "name": "stdout",
     "output_type": "stream",
     "text": [
      "Decision Tree:\n",
      "              precision    recall  f1-score   support\n",
      "\n",
      "           0       0.33      0.34      0.34      1000\n",
      "           1       0.27      0.26      0.27      1000\n",
      "           2       0.21      0.22      0.21      1000\n",
      "           3       0.19      0.19      0.19      1000\n",
      "           4       0.22      0.23      0.22      1000\n",
      "           5       0.21      0.21      0.21      1000\n",
      "           6       0.28      0.28      0.28      1000\n",
      "           7       0.28      0.27      0.27      1000\n",
      "           8       0.37      0.39      0.38      1000\n",
      "           9       0.30      0.28      0.29      1000\n",
      "\n",
      "   micro avg       0.27      0.27      0.27     10000\n",
      "   macro avg       0.27      0.27      0.27     10000\n",
      "weighted avg       0.27      0.27      0.27     10000\n",
      " samples avg       0.27      0.27      0.27     10000\n",
      "\n"
     ]
    }
   ],
   "source": [
    "#classification report of decision tree classifier\n",
    "print(\"Decision Tree:\")\n",
    "y_pred1=dc_model.predict(X_test)\n",
    "print(classification_report(y_cat_test,y_pred1))"
   ]
  },
  {
   "cell_type": "code",
   "execution_count": 42,
   "id": "c084238b",
   "metadata": {},
   "outputs": [],
   "source": [
    "#As you can see the presion of decision tree classifier is pretty bad among all the classes"
   ]
  },
  {
   "cell_type": "code",
   "execution_count": 43,
   "id": "cd6d823a",
   "metadata": {},
   "outputs": [],
   "source": [
    "#Fitting the data into random forest classifier\n",
    "#You do not need to run this cell to train the model as I have provided the pickle file which already\n",
    "#contains the trained model\n",
    "from sklearn.ensemble import RandomForestClassifier\n",
    "clf2=RandomForestClassifier()\n",
    "clf2.fit(X_train,y_cat_train)\n",
    "pickle.dump(clf2,open('cifar10_model(rf).p','wb'))\n"
   ]
  },
  {
   "cell_type": "code",
   "execution_count": 44,
   "id": "3efc8a2c",
   "metadata": {},
   "outputs": [],
   "source": [
    "#loading the pickle data\n",
    "rf_model=pickle.load(open('cifar10_model(rf).p','rb'))"
   ]
  },
  {
   "cell_type": "code",
   "execution_count": 45,
   "id": "1783e43d",
   "metadata": {},
   "outputs": [
    {
     "name": "stdout",
     "output_type": "stream",
     "text": [
      "Random Forest:\n",
      "              precision    recall  f1-score   support\n",
      "\n",
      "           0       0.81      0.24      0.37      1000\n",
      "           1       0.98      0.05      0.09      1000\n",
      "           2       0.73      0.02      0.03      1000\n",
      "           3       1.00      0.00      0.00      1000\n",
      "           4       0.80      0.02      0.05      1000\n",
      "           5       0.90      0.04      0.08      1000\n",
      "           6       0.78      0.05      0.09      1000\n",
      "           7       0.93      0.05      0.10      1000\n",
      "           8       0.85      0.26      0.40      1000\n",
      "           9       0.90      0.07      0.13      1000\n",
      "\n",
      "   micro avg       0.85      0.08      0.15     10000\n",
      "   macro avg       0.87      0.08      0.13     10000\n",
      "weighted avg       0.87      0.08      0.13     10000\n",
      " samples avg       0.08      0.08      0.08     10000\n",
      "\n"
     ]
    },
    {
     "name": "stderr",
     "output_type": "stream",
     "text": [
      "D:\\Downloads\\anaconda3\\lib\\site-packages\\sklearn\\metrics\\_classification.py:1344: UndefinedMetricWarning: Precision and F-score are ill-defined and being set to 0.0 in samples with no predicted labels. Use `zero_division` parameter to control this behavior.\n",
      "  _warn_prf(average, modifier, msg_start, len(result))\n"
     ]
    }
   ],
   "source": [
    "#classification report of random forest classifier\n",
    "print(\"Random Forest:\")\n",
    "y_pred2=rf_model.predict(X_test)\n",
    "print(classification_report(y_cat_test,y_pred2))"
   ]
  },
  {
   "cell_type": "code",
   "execution_count": 46,
   "id": "0a9cccc1",
   "metadata": {},
   "outputs": [],
   "source": [
    "#As you can see our random forest classifier is very precise for some classes(ex: 96% for class 1)\n",
    "#but also very bad at predicting like class 3 (0%)\n",
    "###########################################################################################################"
   ]
  }
 ],
 "metadata": {
  "kernelspec": {
   "display_name": "Python 3 (ipykernel)",
   "language": "python",
   "name": "python3"
  },
  "language_info": {
   "codemirror_mode": {
    "name": "ipython",
    "version": 3
   },
   "file_extension": ".py",
   "mimetype": "text/x-python",
   "name": "python",
   "nbconvert_exporter": "python",
   "pygments_lexer": "ipython3",
   "version": "3.10.9"
  }
 },
 "nbformat": 4,
 "nbformat_minor": 5
}
