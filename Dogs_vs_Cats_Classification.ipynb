{
 "cells": [
  {
   "cell_type": "code",
   "execution_count": 1,
   "id": "c9278a2b",
   "metadata": {},
   "outputs": [],
   "source": [
    "###########################################################################################################\n",
    "#Classification of dogs vs cats dataset using classical algorithms\n",
    "###########################################################################################################\n",
    "\n",
    "#the model will take some time to run, alternatively you can use the model from pickle files\n",
    "\n",
    "#importing the required libraries\n",
    "from matplotlib import pyplot as plt\n",
    "import pandas as pd\n",
    "import numpy as np\n",
    "import cv2\n",
    "import matplotlib.image as img  \n",
    "from skimage.io import imread\n",
    "from skimage.transform import resize\n",
    "import os\n",
    "from sklearn.metrics import classification_report\n",
    "from sklearn import tree\n",
    "from sklearn.ensemble import RandomForestClassifier\n",
    "import pickle\n",
    "from sklearn.metrics import confusion_matrix"
   ]
  },
  {
   "cell_type": "code",
   "execution_count": 5,
   "id": "0e0e87d9",
   "metadata": {},
   "outputs": [],
   "source": [
    "#initialising the required variables\n",
    "target=[]\n",
    "images=[]\n",
    "flat_data=[]\n",
    "\n",
    "#change the DATADIR accordingly where you have downloaded the dog vs cat datset\n",
    "#or alternatively use the pickle files which i have provided to get the pre trained models.\n",
    "DATADIR='C:\\\\Users\\\\risha\\\\dvc_dataset\\\\train'\n",
    "CATEGORIES=['dogs','cats']"
   ]
  },
  {
   "cell_type": "code",
   "execution_count": 4,
   "id": "08c7baea",
   "metadata": {},
   "outputs": [],
   "source": [
    "#Data preprocessing\n",
    "for category in CATEGORIES:\n",
    "    class_num=CATEGORIES.index(category)\n",
    "    path=os.path.join(DATADIR,category)\n",
    "    for img in os.listdir(path):\n",
    "        img_array=imread(os.path.join(path,img))\n",
    "        img_resized=resize(img_array,(100,100,3))\n",
    "        flat_data.append(img_resized.flatten())\n",
    "        target.append(class_num)  "
   ]
  },
  {
   "cell_type": "code",
   "execution_count": 5,
   "id": "c1e39ced",
   "metadata": {},
   "outputs": [],
   "source": [
    "target=np.array(target)\n",
    "flat_data=np.array(flat_data)"
   ]
  },
  {
   "cell_type": "code",
   "execution_count": 6,
   "id": "f8e20897",
   "metadata": {},
   "outputs": [],
   "source": [
    "#train-test split\n",
    "from sklearn.model_selection import train_test_split\n",
    "x_train,x_test,y_train,y_test=train_test_split(flat_data,target,random_state=10)"
   ]
  },
  {
   "cell_type": "code",
   "execution_count": 7,
   "id": "93398002",
   "metadata": {},
   "outputs": [],
   "source": [
    "#Training the decision tree classifier (alternatively use the pickle file provided)\n",
    "clf1=tree.DecisionTreeClassifier()\n",
    "clf1.fit(x_train,y_train)\n",
    "pickle.dump(clf1,open('dvc_dc.p','wb'))"
   ]
  },
  {
   "cell_type": "code",
   "execution_count": 2,
   "id": "28c5bd1a",
   "metadata": {},
   "outputs": [],
   "source": [
    "model_dc=pickle.load(open('dvc_dc.p','rb'))"
   ]
  },
  {
   "cell_type": "code",
   "execution_count": 8,
   "id": "0e76ae56",
   "metadata": {},
   "outputs": [
    {
     "name": "stdout",
     "output_type": "stream",
     "text": [
      "decision tree::\n",
      "              precision    recall  f1-score   support\n",
      "\n",
      "           0       0.55      0.54      0.54      3110\n",
      "           1       0.55      0.55      0.55      3140\n",
      "\n",
      "    accuracy                           0.55      6250\n",
      "   macro avg       0.55      0.55      0.55      6250\n",
      "weighted avg       0.55      0.55      0.55      6250\n",
      "\n",
      "[[1688 1422]\n",
      " [1401 1739]]\n"
     ]
    }
   ],
   "source": [
    "print(\"decision tree::\")\n",
    "model_dc.score(x_train,y_train),model_dc.score(x_test,y_test)\n",
    "y_pred1=model_dc.predict(x_test)\n",
    "print(classification_report(y_test,y_pred1))\n",
    "print(confusion_matrix(y_test,y_pred1))"
   ]
  },
  {
   "cell_type": "code",
   "execution_count": null,
   "id": "f1a814a6",
   "metadata": {},
   "outputs": [],
   "source": [
    "#As you can see our decision tree classifier is achieving a precision of 55% for both the classes."
   ]
  },
  {
   "cell_type": "code",
   "execution_count": 11,
   "id": "695cce4e",
   "metadata": {},
   "outputs": [],
   "source": [
    "#Training the random tree classifier (alternatively use the pickle file provided)\n",
    "clf2=RandomForestClassifier()\n",
    "clf2.fit(x_train,y_train)\n",
    "pickle.dump(clf2,open('dvc_rf.p','wb'))"
   ]
  },
  {
   "cell_type": "code",
   "execution_count": 3,
   "id": "1ec9c35b",
   "metadata": {},
   "outputs": [],
   "source": [
    "model_rf=pickle.load(open('dvc_rf.p','rb'))"
   ]
  },
  {
   "cell_type": "code",
   "execution_count": 12,
   "id": "f6ec0a99",
   "metadata": {},
   "outputs": [
    {
     "name": "stdout",
     "output_type": "stream",
     "text": [
      "random forest:\n",
      "              precision    recall  f1-score   support\n",
      "\n",
      "           0       0.66      0.63      0.65      3110\n",
      "           1       0.65      0.68      0.66      3140\n",
      "\n",
      "    accuracy                           0.66      6250\n",
      "   macro avg       0.66      0.66      0.66      6250\n",
      "weighted avg       0.66      0.66      0.66      6250\n",
      "\n",
      "[[1971 1139]\n",
      " [1011 2129]]\n"
     ]
    }
   ],
   "source": [
    "print(\"random forest:\")\n",
    "model_rf.score(x_train,y_train),model_rf.score(x_test,y_test)\n",
    "y_pred2=model_rf.predict(x_test)\n",
    "print(classification_report(y_test,y_pred2))\n",
    "print(confusion_matrix(y_test,y_pred2))"
   ]
  },
  {
   "cell_type": "code",
   "execution_count": null,
   "id": "c2b30e0a",
   "metadata": {},
   "outputs": [],
   "source": [
    "#As you can see our random forest classifier is achieving a precision of 66% and 65% for the classes."
   ]
  },
  {
   "cell_type": "code",
   "execution_count": 6,
   "id": "efd6b145",
   "metadata": {
    "scrolled": true
   },
   "outputs": [
    {
     "name": "stdout",
     "output_type": "stream",
     "text": [
      "Enter the image's path:D:\\Rishabh\\dvc_dataset\\test1\\21.jpg\n",
      "Predicted output: dogs\n"
     ]
    },
    {
     "data": {
      "image/png": "[encoded data removed]",
      "text/plain": [
       "<Figure size 640x480 with 1 Axes>"
      ]
     },
     "metadata": {},
     "output_type": "display_data"
    }
   ],
   "source": [
    "#Tesing a brand new single image \n",
    "flat_data_test=[]\n",
    "dest_image=input(\"Enter the image's path:\")\n",
    "img=imread(dest_image)\n",
    "img_resized_test=resize(img,(100,100,3))\n",
    "flat_data_test.append(img_resized_test.flatten())\n",
    "flat_data_test=np.array(flat_data_test)\n",
    "plt.imshow(img_resized_test)\n",
    "plt.xticks([]),plt.yticks([])\n",
    "y_out=model_rf.predict(flat_data_test)\n",
    "y_out=CATEGORIES[y_out[0]]\n",
    "print(\"Predicted output:\", y_out)\n"
   ]
  }
 ],
 "metadata": {
  "kernelspec": {
   "display_name": "Python 3 (ipykernel)",
   "language": "python",
   "name": "python3"
  },
  "language_info": {
   "codemirror_mode": {
    "name": "ipython",
    "version": 3
   },
   "file_extension": ".py",
   "mimetype": "text/x-python",
   "name": "python",
   "nbconvert_exporter": "python",
   "pygments_lexer": "ipython3",
   "version": "3.10.9"
  }
 },
 "nbformat": 4,
 "nbformat_minor": 5
}
